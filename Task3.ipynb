{
  "nbformat": 4,
  "nbformat_minor": 0,
  "metadata": {
    "colab": {
      "provenance": []
    },
    "kernelspec": {
      "name": "python3",
      "display_name": "Python 3"
    },
    "language_info": {
      "name": "python"
    }
  },
  "cells": [
    {
      "cell_type": "code",
      "source": [
        "import random\n",
        "\n",
        "# Step 1: Collect and Prepare Data\n",
        "def preprocess_text(text):\n",
        "    # Convert text to lowercase and split into words\n",
        "    words = text.lower().split()\n",
        "    return words\n",
        "\n",
        "# Step 2: Build the Markov Chain Model\n",
        "def build_markov_chain(words, n=1):\n",
        "    markov_chain = {}\n",
        "    for i in range(len(words) - n):\n",
        "        current_state = tuple(words[i:i + n])\n",
        "        next_state = words[i + n]\n",
        "        if current_state not in markov_chain:\n",
        "            markov_chain[current_state] = []\n",
        "        markov_chain[current_state].append(next_state)\n",
        "    return markov_chain\n",
        "\n",
        "# Step 3: Generate Text\n",
        "def generate_text(markov_chain, length=50, seed=None, n=1):\n",
        "    if seed is None:\n",
        "        seed = random.choice(list(markov_chain.keys()))\n",
        "    else:\n",
        "        seed = tuple(seed.split()[-n:])\n",
        "\n",
        "    current_state = seed\n",
        "    output = list(current_state)\n",
        "\n",
        "    for _ in range(length):\n",
        "        if current_state in markov_chain:\n",
        "            next_state = random.choice(markov_chain[current_state])\n",
        "            output.append(next_state)\n",
        "            current_state = tuple(output[-n:])\n",
        "        else:\n",
        "            break\n",
        "\n",
        "    return ' '.join(output)\n",
        "\n",
        "# Example usage\n",
        "text = \"This is an example text for generating text using Markov chains. This text is just for demonstration purposes.\"\n",
        "words = preprocess_text(text)\n",
        "markov_chain = build_markov_chain(words, n=2)\n",
        "generated_text = generate_text(markov_chain, length=20, seed=\"this is\", n=2)\n",
        "print(generated_text)\n"
      ],
      "metadata": {
        "id": "Ir8Z-RrPsbLT",
        "colab": {
          "base_uri": "https://localhost:8080/"
        },
        "outputId": "aa3d1e55-4f29-44b3-be63-1c821a67c2bb"
      },
      "execution_count": null,
      "outputs": [
        {
          "output_type": "stream",
          "name": "stdout",
          "text": [
            "this is an example text for generating text using markov chains. this text is just for demonstration purposes.\n"
          ]
        }
      ]
    },
    {
      "cell_type": "code",
      "source": [],
      "metadata": {
        "id": "aghBsO8EsbRU"
      },
      "execution_count": null,
      "outputs": []
    },
    {
      "cell_type": "code",
      "source": [],
      "metadata": {
        "id": "TbMowIYDC5S7"
      },
      "execution_count": null,
      "outputs": []
    },
    {
      "cell_type": "code",
      "source": [],
      "metadata": {
        "id": "KQXDPG4AC5WF"
      },
      "execution_count": null,
      "outputs": []
    },
    {
      "cell_type": "code",
      "source": [],
      "metadata": {
        "id": "zV_RQc0osbUv"
      },
      "execution_count": null,
      "outputs": []
    }
  ]
}